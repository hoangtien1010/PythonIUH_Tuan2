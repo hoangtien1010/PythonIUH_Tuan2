{
  "nbformat": 4,
  "nbformat_minor": 0,
  "metadata": {
    "colab": {
      "name": "Copy of PythonIUH_Tuan2.ipynb",
      "provenance": [],
      "collapsed_sections": [],
      "authorship_tag": "ABX9TyMELTg26pFfi5olHA9bSU+L",
      "include_colab_link": true
    },
    "kernelspec": {
      "name": "python3",
      "display_name": "Python 3"
    },
    "language_info": {
      "name": "python"
    }
  },
  "cells": [
    {
      "cell_type": "markdown",
      "metadata": {
        "id": "view-in-github",
        "colab_type": "text"
      },
      "source": [
        "<a href=\"https://colab.research.google.com/github/hoangtien1010/PythonIUH_Tuan2/blob/main/Copy_of_PythonIUH_Tuan2.ipynb\" target=\"_parent\"><img src=\"https://colab.research.google.com/assets/colab-badge.svg\" alt=\"Open In Colab\"/></a>"
      ]
    },
    {
      "cell_type": "code",
      "execution_count": null,
      "metadata": {
        "colab": {
          "base_uri": "https://localhost:8080/"
        },
        "id": "v2h11AcrVfNB",
        "outputId": "73e8d2ab-3498-4ced-88be-5124f4d00d5d"
      },
      "outputs": [
        {
          "output_type": "stream",
          "name": "stdout",
          "text": [
            "* \n",
            "* * \n",
            "* * * \n",
            "* * * * "
          ]
        }
      ],
      "source": [
        "#1. Sử dụng kiểu dữ liệu List in ra màn hình tam giác được tạo thành từ những dấu * với chiều cao 4 đơn vị\n",
        "a = [1,0,0,0]\n",
        "b = [1,1,0,0]\n",
        "c = [1,1,1,0]\n",
        "d = [1,1,1,1]\n",
        "for i in a:\n",
        "    if i == 1:\n",
        "        print(\"*\",end =\" \")\n",
        "print(end=\"\\n\")\n",
        "for j in b:\n",
        "    if j == 1:\n",
        "        print(\"*\",end =\" \")\n",
        "print(end=\"\\n\")\n",
        "for v in c:\n",
        "    if v == 1:\n",
        "        print(\"*\",end =\" \")\n",
        "print(end=\"\\n\")\n",
        "for t in d:\n",
        "    if t == 1:\n",
        "        print(\"*\",end =\" \")"
      ]
    },
    {
      "cell_type": "code",
      "source": [
        "\"\"\"2. Sử dụng kiểu Tuple viết chương trình có dữ liệu điểm trung bình môn học của học sinh Nguyễn \n",
        "Văn A như sau: “Nguyễn Văn A, Toán 7.4 Lý 6.5 Hoá 7.0”. Hiển thị màn hình hướng dẫn \n",
        "nhập liệu search thông qua nhập tên học sinh. Ví dụ nhập Nguyễn Văn A thì nghĩa là hiển thị \n",
        "xuất ra tên và điểm trung bình môn học. \"\"\"\n",
        "ten = (\"Phan Cong Quan\",\"Duong Hoang Tien\", \"Nguyen Tien Trong\")\n",
        "toan = (7.5,8.0,8.25)\n",
        "ly = (8.25, 7.75, 8)\n",
        "hoa = (9.0,9.5,9.25)\n",
        "print(\"\\t ----------DANH SACH SINH VIEN----------\")\n",
        "for i in range(len(ten)):\n",
        "    print(i+1,\".\",ten[i])\n",
        "\n",
        "y=input(\"Nhap ten sinh vien: \")\n",
        "x=ten.index(y)\n",
        "print(\"Ten sinh vien: \",ten[x])\n",
        "print(\"Diem Toan cua\",ten[x],\"la:\",toan[x])\n",
        "print(\"Diem Ly cua\",ten[x],\"la:\",ly[x])\n",
        "print(\"Diem Hoa cua\",ten[x],\"la:\",hoa[x])"
      ],
      "metadata": {
        "id": "M5QV7S-XeF3K"
      },
      "execution_count": null,
      "outputs": []
    },
    {
      "cell_type": "code",
      "source": [
        "'''3. Nhập từ bàn phím và lưu dữ vào từng list với các trường như sau: Mã số Sinh Viên, Họ và \n",
        "Tên, Ngày Tháng Năm Sinh, Tên Lớp, Điểm Thường Kỳ 1,2,3, Điểm Thi Giữa Kỳ, Điểm Thi \n",
        "Cuối Kỳ, Tính điểm trung bình tổng kết, kết quả đậu rớt. '''\n",
        "mssv=[]\n",
        "hovaten=[]\n",
        "ngaysinh=[]\n",
        "lop=[]\n",
        "diemtk=[]\n",
        "diemgk=[]\n",
        "diemck=[]\n",
        "tongdtk=0\n",
        "mssv.append(input(\"Nhap ma so sinh vien: \"))\n",
        "hovaten.append(input(\"Nhap ho va ten: \"))\n",
        "ngaysinh.append(input(\"Nhap ngay sinh: \"))\n",
        "lop.append(input(\"Nhap lop: \"))\n",
        "for i in range(3):\n",
        "  diemtk.append(float(input(\"Nhap diem thuong ki: \")))\n",
        "diemgk.append(float(input(\"Nhap diem giua ki: \")))\n",
        "diemck.append(float(input(\"Nhap diem cuoi ki: \")))\n",
        "for j in diemtk:\n",
        "  tongdtk+=j\n",
        "dtbtk=tongdtk/len(diemtk)\n",
        "dtb=dtbtk*0.2 + diemgk[0]*0.3 +diemck[0]*0.5\n",
        "if dtb>=4: \n",
        "    print(\"Diem Tong ket cua ban la:\",dtb)\n",
        "    print(\"Chuc mung, ban da qua mon!\")\n",
        "elif dtb < 4 or diemck[0] < 4:\n",
        "    dtb = 0\n",
        "    print(\"Diem Tong ket cua ban la:\",dtb)\n",
        "    print(\"Rat tiec, ban da khong qua mon!\")"
      ],
      "metadata": {
        "id": "1n6t2Hphfh3a"
      },
      "execution_count": null,
      "outputs": []
    },
    {
      "cell_type": "code",
      "source": [
        "'''4. Tạo ra dữ liệu sẵn có về 10 loại trái cây và giá tiền tương ứng dùng cấu trúc Tuples. Cho phép \n",
        "nhập liệu tên trái cây search ra giá tiền. Sau đó cập nhật lại giá tiền của 5 loại trái cây trong \n",
        "tuple đó. Search lại lần nữa các loại trái cây và xuất ra màn hình '''\n",
        "traicay=(\"Cam\",\"Dao\",\"Le\",\"Man\",\"Luu\",\"Tao\",\"Oi\",\"Buoi\",\"Xoai\",\"Quyt\")\n",
        "giatien=(30000,35000,25000,20000,37000,27000,15000,15000,10000,16000)\n",
        "print(\"\\t----------DANH SACH TRAI CAY----------\")\n",
        "for i in range(len(traicay)):\n",
        "    print(i+1,\".\",traicay[i])\n",
        "a=input(\"Nhap loai trai cay: \")\n",
        "b=traicay.index(a)\n",
        "print(\"Gia cua trai\",traicay[b],\"la\",giatien[b],\"VND\")\n",
        "x = list(giatien)\n",
        "x[0] = 25000\n",
        "x[2] = 30000\n",
        "x[4] = 40000\n",
        "x[6] = 12000\n",
        "x[7] = 12000\n",
        "c=input(\"Nhap loai trai cay: \")\n",
        "b=traicay.index(c)\n",
        "print(\"Gia cua trai\",traicay[b],\"la\",x[b],\"VND\")"
      ],
      "metadata": {
        "id": "tvUEDGnmf19C"
      },
      "execution_count": null,
      "outputs": []
    },
    {
      "cell_type": "code",
      "source": [
        "'''5. Tạo một set chứa thông tin 10 loại trái cây bất kỳ. Tạo một dictionary gồm tên 10 loại trái cây \n",
        "trên và giá từng loại. Viết chương trình tính số tiền phải trả khi người dùng mua trái cây với \n",
        "số lượng và loại bất kỳ. '''\n",
        "traicay = {\"Tao\",\"Buoi\",\"Chuoi\",\"Mit\",\"Bo\",\"Cam\",\"Quyt\",\"Luu\",\"Sau rieng\",\"Me\"}\n",
        "banggia = {\n",
        "    \"Tao\": 5000,\n",
        "    \"Buoi\": 10000,\n",
        "    \"Chuoi\": 15000,\n",
        "    \"Mit\": 30000,\n",
        "    \"Bo\": 35000,\n",
        "    \"Cam\": 30000,\n",
        "    \"Quyt\": 20000,\n",
        "    \"Luu\": 45000,\n",
        "    \"Sau rieng\": 120000,\n",
        "    \"Me\": 5000\n",
        "}\n",
        "a = banggia.keys()\n",
        "b = list(a)\n",
        "y = banggia.values()\n",
        "z = list(y)\n",
        "print(\"\\t -----------BANG GIA TRAI CAY----------\")\n",
        "for h in range (len(z)):\n",
        "    print(h+1,\". \",b[h],\":\",z[h],\"VND\")\n",
        "loaitraicay = []\n",
        "soluong = []\n",
        "tongtien = 0\n",
        "n = int(input(\"Nhap so loai trai cay can mua: \"))\n",
        "for i in range (n):\n",
        "    loaitraicay.append(input(\"Nhap loai trai cay: \"))\n",
        "for k in loaitraicay:\n",
        "    if k not in traicay:\n",
        "        loaitraicay.remove(k)\n",
        "        print(\"Cua hang khong co trai\",k)\n",
        "    else:\n",
        "        continue\n",
        "\n",
        "for j in range(len(loaitraicay)):\n",
        "    print(\"Nhap so luong cua trai \", loaitraicay[j], end=\" \")\n",
        "    print(end=\" \")\n",
        "    soluong.append(int(input()))\n",
        "for v in range (len(loaitraicay)):\n",
        "    tongtien += banggia.get(loaitraicay[v]) * soluong[v]\n",
        "print(\"Tong tien quy khach phai tra la:\",tongtien,\"VND\")"
      ],
      "metadata": {
        "id": "StW3QS4EgBQp"
      },
      "execution_count": null,
      "outputs": []
    },
    {
      "cell_type": "code",
      "source": [
        "'''6. Tạo một tuples giá điện bậc thang theo giá hiện nay. Tạo một dictionary gồm tên hộ gia đình, \n",
        "địa chỉ, số điện tiêu thụ trong tháng.Viết chương trình tính số tiền điện phải trả theo giá điện \n",
        "bậc thang. '''\n",
        "giadien = (1678,1734,2014,2536,2834,2927)\n",
        "hogiadinh = {\n",
        "    \"Ten ho gia dinh\" : \"Cao Van Kien\",\n",
        "    \"Dia chi\" : \"So 12, Nguyen Van Bao\",\n",
        "    \"So dien tieu thu\" : 70\n",
        "}\n",
        "if hogiadinh[\"So dien tieu thu\"] <= 50:\n",
        "    tong = hogiadinh[\"So dien tieu thu\"] * giadien[0]\n",
        "elif 50 < hogiadinh[\"So dien tieu thu\"] <= 100:\n",
        "    tong = hogiadinh[\"So dien tieu thu\"] * giadien[1]\n",
        "elif 100 < hogiadinh[\"So dien tieu thu\"] <= 200:\n",
        "    tong = hogiadinh[\"So dien tieu thu\"] * giadien[2]\n",
        "elif 200 < hogiadinh[\"So dien tieu thu\"] <= 300:\n",
        "    tong = hogiadinh[\"So dien tieu thu\"] * giadien[3]\n",
        "elif 300 < hogiadinh[\"So dien tieu thu\"] <= 400:\n",
        "    tong = hogiadinh[\"So dien tieu thu\"] * giadien[4]\n",
        "elif hogiadinh[\"So dien tieu thu\"] > 400:\n",
        "    tong = hogiadinh[\"So dien tieu thu\"] * giadien[5]\n",
        "print(\"So tien dien ma ho gia dinh\",hogiadinh[\"Ten ho gia dinh\"],\"dia chi o\",hogiadinh[\"Dia chi\"],\"phai tra la\",tong,\"VND\")"
      ],
      "metadata": {
        "id": "9U3GO78QgJSJ"
      },
      "execution_count": null,
      "outputs": []
    },
    {
      "cell_type": "code",
      "source": [
        "'''7. Tạo một list dữ liệu số ngẫu nhiên gồm N phần tử có giá trị từ MIN đến MAX. Viết chương \n",
        "trình lựa chọn ngẫu nhiên 1 số trong list đó. '''\n",
        "import random\n",
        "n = 6\n",
        "min = 10\n",
        "max = 100\n",
        "numlist = []\n",
        "for i in range (n):\n",
        "    numlist.append(random.uniform(min,max))\n",
        "numlist.sort()\n",
        "print(numlist)\n",
        "print(\"So ngau nhieu duoc lay ra tu numlist la:\",random.choice(numlist))"
      ],
      "metadata": {
        "id": "wO6Wa4DKgRah"
      },
      "execution_count": null,
      "outputs": []
    },
    {
      "cell_type": "code",
      "source": [
        "'''8. Tạo một list có N phần tử bất kỳ. Sau đó tạo một list khác là tỉ lệ lựa chọn (0 đến 1) của các \n",
        "phần từ trong list 1. Biết tổng của list 2 bằng 1. Tỉ lệ chọn của phẩn tử phía sau bằng k lần (0 đến 1) tỉ lệ lựa chọn phần tử trước. Viết chương trình lựa chọn theo tỉ lệ trên. \n",
        "'''\n",
        "import random \n",
        "mylist1 = []\n",
        "mylist2 = []\n",
        "tongtile = 0\n",
        "n = 6\n",
        "min = 10\n",
        "max = 100\n",
        "for i in range (n):\n",
        "    mylist1.append(random.uniform(min,max))\n",
        "tile = float(input(\"Nhap ti le: \"))\n",
        "if tile < 0 or tile > 1:\n",
        "    tile = float(input(\"Nhap lai ti le tu 0 den 1: \"))\n",
        "k = float(input(\"Nhap gia tri k tu 0 den 1: \"))\n",
        "for i in range (len(mylist1)):\n",
        "    mylist2.append(mylist1[i]) \n",
        "    tongtile += tile\n",
        "    tile = tile * k\n",
        "    if tongtile >= 1:\n",
        "        break\n",
        "print(mylist2)"
      ],
      "metadata": {
        "id": "KZjVX8N8gX2i",
        "outputId": "2437acca-7433-4ecf-cdad-8760cf10ee4d",
        "colab": {
          "base_uri": "https://localhost:8080/"
        }
      },
      "execution_count": null,
      "outputs": [
        {
          "output_type": "stream",
          "name": "stdout",
          "text": [
            "Nhap ti le: 0.6\n",
            "Nhap gia tri k tu 0 den 1: 0.5\n",
            "[91.76750146968274, 82.43649637705013, 51.429698886949936]\n"
          ]
        }
      ]
    }
  ]
}